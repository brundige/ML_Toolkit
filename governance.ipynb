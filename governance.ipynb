{
 "cells": [
  {
   "metadata": {},
   "cell_type": "markdown",
   "source": [
    "# Bias, Prejudice, Equity, and Justice in Machine Learning Models and Systems for Governance\n",
    "##### Author: Chris Brundige | SDE | City of Chattanooga\n",
    "##### 2024-12-25\n"
   ],
   "id": "b94d97cf2988ad81"
  },
  {
   "metadata": {
    "ExecuteTime": {
     "end_time": "2025-01-13T14:51:39.357845Z",
     "start_time": "2025-01-13T14:51:30.922826Z"
    }
   },
   "cell_type": "code",
   "source": [
    "\n",
    "import matplotlib.pyplot as plt\n",
    "import pandas as pd"
   ],
   "id": "dc2b6cced6e51ab8",
   "outputs": [],
   "execution_count": 3
  },
  {
   "metadata": {
    "ExecuteTime": {
     "end_time": "2025-01-13T14:51:39.361756Z",
     "start_time": "2025-01-13T14:51:39.358979Z"
    }
   },
   "cell_type": "code",
   "source": [
    "# Introduction:  \n",
    "# WHO: This document is intended to be a toolkit for AI technologists in government roles. \n",
    "# WHAT: This document is a guide to understanding and mitigating bias, prejudice, and injustice in machine learning models and systems for governance. It serves as a tool kit for evaluating models and systems for fairness and equity.\n",
    "# WHY:  \n",
    "\n"
   ],
   "id": "2c66cd100822fca5",
   "outputs": [],
   "execution_count": 4
  },
  {
   "metadata": {},
   "cell_type": "markdown",
   "source": "",
   "id": "7af5b4d369b66dde"
  },
  {
   "metadata": {},
   "cell_type": "markdown",
   "source": "",
   "id": "31341ece437b2132"
  },
  {
   "metadata": {},
   "cell_type": "markdown",
   "source": "",
   "id": "c147836ab524cae1"
  },
  {
   "metadata": {},
   "cell_type": "markdown",
   "source": [
    "### Fundamental Principles of Mathematics and Computer Science\n",
    "\n",
    "##### Math is the language of the universe, and the universe is a system of systems. Math allows us to model the universe and the systems within it. Models allow us to empirically reason, analyze, and predict the behavior of systems.\n",
    "\n",
    "##### Computer Science is fundamentally the work of taking real-world systems and translating them into mathematical models that can be executed by a computer.\n",
    "\n",
    "#### Proof that Social Systems Can Reliably Be Modeled Using Mathematical Systems\n",
    "\n",
    "###### While a novel idea to the layperson, social systems have been modeled using mathematical systems for centuries. The most famous example of this is the work of Thomas Bayes, who developed a model for predicting the probability of an event based on prior knowledge of conditions that might be related to the event. This model is now known as Bayes' Theorem. Bayes' Theorem is the foundation of modern statistics and probability theory and is used in a wide range of applications, from predicting the weather to predicting the outcome of a presidential election.\n",
    "\n",
    "###### Price's Equation for Altruism: Price's equation, when applied to selflessness, essentially states that a trait like altruism (selflessness) will increase in a population over time if individuals exhibiting that trait have a higher reproductive fitness compared to those who are not altruistic. This means the change in the average level of selflessness in a population is directly related to the covariance between an individual's level of selflessness and their reproductive success; mathematically represented as: Δz = Cov(wi, zi), where \"Δz\" is the change in the trait (selflessness), \"wi\" is an individual's fitness, and \"zi\" is the level of selflessness of an individual."
   ],
   "id": "3354474fda99f31a"
  },
  {
   "metadata": {},
   "cell_type": "markdown",
   "source": [
    "# Understanding Bias: A Mathematical and Humanistic Perspective\n",
    "\n",
    "## Definition and Context\n",
    "Bias represents a systematic deviation from an accurate representation of reality, manifesting in both quantitative models and human judgment. This concept bridges mathematical precision and human psychology in interesting ways.\n",
    "\n",
    "## Mathematical Framework\n",
    "In mathematical terms, bias occurs when a model systematically deviates from true values:\n",
    "\n",
    "- **Systematic Error**: A consistent pattern of deviation from the true value\n",
    "- **Model Misspecification**: When the model structure fails to capture the true relationship between variables\n",
    "- **Parameter Estimation**: Systematic over or underestimation of model parameters\n",
    "\n",
    "## Human Perspective\n",
    "Human bias operates similarly to mathematical bias:\n",
    "\n",
    "1. **System of Judgment**: \n",
    "   - Personal experiences and beliefs form our \"model\" of reality\n",
    "   - This model influences how we process and interpret new information\n",
    "\n",
    "2. **Context Dependency**:\n",
    "   - A bias isn't inherently incorrect\n",
    "   - The same bias may be helpful in one context but misleading in another\n",
    "   - The accuracy of a bias depends on how well it matches the current situation\n",
    "\n",
    "3. **Systematic Nature**:\n",
    "   - Like mathematical bias, human bias creates consistent patterns in judgment\n",
    "   - These patterns can be beneficial (heuristics) or detrimental (prejudices)\n",
    "\n",
    "## Key Insight\n",
    "The parallel between mathematical and human bias suggests that the issue isn't the existence of bias itself, but rather the mismatch between:\n",
    "- The context in which the bias developed\n",
    "- The context in which it's being applied\n",
    "\n",
    "This understanding helps frame bias not as an inherent flaw, but as a feature of models (both mathematical and mental) that requires careful attention to context and application."
   ],
   "id": "593c47f922060d30"
  },
  {
   "metadata": {},
   "cell_type": "markdown",
   "source": "# Building Context",
   "id": "2bdf866682d1d7e0"
  },
  {
   "metadata": {},
   "cell_type": "markdown",
   "source": [
    "# A Mathematical Model of Human Outcomes: Context, Agency, and Environmental Factors\n",
    "\n",
    "## Introduction\n",
    "Human outcomes are shaped by a complex interplay of internal and external factors. This model attempts to formalize these relationships through a mathematical framework that considers genetics, personal agency, environmental conditions, and other contextual factors.\n",
    "\n",
    "## The Mathematical Framework\n",
    "We can express the relationship between outcomes and their contributing factors through the following equation:\n",
    "\n",
    "$$ R = \\left( \\prod_{i=1}^{n} E_{i}^{w_{i}} \\right) \\left( G^{v_{1}} \\cdot F^{v_{2}} \\cdot H^{v_{3}} \\right) $$\n",
    "\n",
    "Subject to the following constraints:\n",
    "$$ \\sum_{i=1}^{n} w_{i} = 1 $$\n",
    "$$ v_{1} + v_{2} + v_{3} = 1 $$\n",
    "\n",
    "### Variable Definitions\n",
    "\n",
    "#### Primary Components\n",
    "- R: The resultant outcome\n",
    "- G: Genetic factors\n",
    "- F: Personal agency (individual choice and decision-making)\n",
    "- H: Environmental influences\n",
    "\n",
    "#### External Factors\n",
    "- Eᵢ: Domain-specific external factors\n",
    "- wᵢ: Weights assigned to each external factor\n",
    "- n: Number of relevant external factors considered\n",
    "\n",
    "#### Internal Weights\n",
    "- v₁: Weight assigned to genetic influence\n",
    "- v₂: Weight assigned to personal agency\n",
    "- v₃: Weight assigned to environmental factors\n",
    "\n",
    "## Model Properties\n",
    "1. The multiplicative nature of the equation reflects how factors interact and influence each other\n",
    "2. The constraint equations ensure that the relative weights of factors sum to unity\n",
    "3. The model allows for domain-specific customization through the selection of relevant external factors\n",
    "4. The exponential weights enable non-linear relationships between factors\n",
    "\n",
    "This framework provides a foundation for analyzing how various factors contribute to human outcomes, while acknowledging the complex interactions between genetics, personal choice, and environmental conditions."
   ],
   "id": "d4387030627d5e0f"
  },
  {
   "metadata": {},
   "cell_type": "markdown",
   "source": [
    "# Common Biases and there mathematical equivalents\n",
    "# evaluating policy for fairness\n",
    "# evaluating policy for equity\n",
    "# evaluating policy for justice\n",
    "# applying system effiency models to prove that no perfect system exists\n",
    "# applications of maximizing and minimizing functions to direct policy to achieve desired outcomes"
   ],
   "id": "afcb79bc26e975c9"
  },
  {
   "metadata": {},
   "cell_type": "code",
   "outputs": [],
   "execution_count": null,
   "source": [
    "# predudice is an inappropriate Weight attributed to a lever relative to a context. \n",
    "# Real World Examnple:\n",
    "# Mathmatical Equivalency:"
   ],
   "id": "3935997ded51311b"
  },
  {
   "metadata": {},
   "cell_type": "markdown",
   "source": [
    "#### The final layer in evaluating a model MUST be a Human governance layer. This is the layer that ensures that the model is being used in a way that is ethical and fair. The role of government is at its essence, a system promotes Justice. However, we must acknowledge that all systems are inherently flawed and that maximizing justice must be balanced with mercy. We must evaluate the outcome of our systems for fairness while recognizing that imperfect systems prejudice some groups and individuals. Mercy recognizes that we must be willing to forgive and show compassion to those who have been disadvantaged by the system, and that we must be continually seeking to adjust the system to make it more equitable. Judgement of actions, and beliefs must be evalauted in the context of the system that they are operating in. Equity is established by means of applying mercy to justice.\n",
    "\n",
    "#\n"
   ],
   "id": "a891ccd32c151be6"
  },
  {
   "metadata": {},
   "cell_type": "code",
   "outputs": [],
   "execution_count": null,
   "source": "# Survival and Actualization",
   "id": "87b0330cc5d48962"
  },
  {
   "metadata": {},
   "cell_type": "code",
   "outputs": [],
   "execution_count": null,
   "source": "",
   "id": "4a26463f7fcd456f"
  }
 ],
 "metadata": {
  "kernelspec": {
   "display_name": "Python 3",
   "language": "python",
   "name": "python3"
  },
  "language_info": {
   "codemirror_mode": {
    "name": "ipython",
    "version": 2
   },
   "file_extension": ".py",
   "mimetype": "text/x-python",
   "name": "python",
   "nbconvert_exporter": "python",
   "pygments_lexer": "ipython2",
   "version": "2.7.6"
  }
 },
 "nbformat": 4,
 "nbformat_minor": 5
}
