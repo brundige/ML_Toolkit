{
 "cells": [
  {
   "metadata": {},
   "cell_type": "markdown",
   "source": [
    "# Bias, Prejudice, Equity, and Justice in Machine Learning Models and Systems for Governance\n",
    "##### Author: Chris Brundige | SDE | City of Chattanooga\n",
    "##### 2024-12-25\n"
   ],
   "id": "b94d97cf2988ad81"
  },
  {
   "metadata": {
    "ExecuteTime": {
     "end_time": "2025-01-13T15:45:43.467285Z",
     "start_time": "2025-01-13T15:45:39.126648Z"
    }
   },
   "cell_type": "code",
   "source": [
    "\n",
    "import matplotlib.pyplot as plt\n",
    "import pandas as pd\n",
    "!pip install ipywidgets matplotlib"
   ],
   "id": "687bf14ef4cf9de6",
   "outputs": [
    {
     "name": "stdout",
     "output_type": "stream",
     "text": [
      "Requirement already satisfied: ipywidgets in c:\\users\\chrisb\\.conda\\envs\\pythonproject3\\lib\\site-packages (8.1.5)\n",
      "Requirement already satisfied: matplotlib in c:\\users\\chrisb\\.conda\\envs\\pythonproject3\\lib\\site-packages (3.9.2)\n",
      "Requirement already satisfied: comm>=0.1.3 in c:\\users\\chrisb\\.conda\\envs\\pythonproject3\\lib\\site-packages (from ipywidgets) (0.2.1)\n",
      "Requirement already satisfied: ipython>=6.1.0 in c:\\users\\chrisb\\.conda\\envs\\pythonproject3\\lib\\site-packages (from ipywidgets) (8.30.0)\n",
      "Requirement already satisfied: traitlets>=4.3.1 in c:\\users\\chrisb\\.conda\\envs\\pythonproject3\\lib\\site-packages (from ipywidgets) (5.14.3)\n",
      "Requirement already satisfied: widgetsnbextension~=4.0.12 in c:\\users\\chrisb\\.conda\\envs\\pythonproject3\\lib\\site-packages (from ipywidgets) (4.0.13)\n",
      "Requirement already satisfied: jupyterlab-widgets~=3.0.12 in c:\\users\\chrisb\\.conda\\envs\\pythonproject3\\lib\\site-packages (from ipywidgets) (3.0.13)\n",
      "Requirement already satisfied: contourpy>=1.0.1 in c:\\users\\chrisb\\.conda\\envs\\pythonproject3\\lib\\site-packages (from matplotlib) (1.3.1)\n",
      "Requirement already satisfied: cycler>=0.10 in c:\\users\\chrisb\\.conda\\envs\\pythonproject3\\lib\\site-packages (from matplotlib) (0.11.0)\n",
      "Requirement already satisfied: fonttools>=4.22.0 in c:\\users\\chrisb\\.conda\\envs\\pythonproject3\\lib\\site-packages (from matplotlib) (4.51.0)\n",
      "Requirement already satisfied: kiwisolver>=1.3.1 in c:\\users\\chrisb\\.conda\\envs\\pythonproject3\\lib\\site-packages (from matplotlib) (1.4.4)\n",
      "Requirement already satisfied: numpy>=1.23 in c:\\users\\chrisb\\.conda\\envs\\pythonproject3\\lib\\site-packages (from matplotlib) (2.0.1)\n",
      "Requirement already satisfied: packaging>=20.0 in c:\\users\\chrisb\\.conda\\envs\\pythonproject3\\lib\\site-packages (from matplotlib) (24.2)\n",
      "Requirement already satisfied: pillow>=8 in c:\\users\\chrisb\\.conda\\envs\\pythonproject3\\lib\\site-packages (from matplotlib) (11.0.0)\n",
      "Requirement already satisfied: pyparsing>=2.3.1 in c:\\users\\chrisb\\.conda\\envs\\pythonproject3\\lib\\site-packages (from matplotlib) (3.2.0)\n",
      "Requirement already satisfied: python-dateutil>=2.7 in c:\\users\\chrisb\\.conda\\envs\\pythonproject3\\lib\\site-packages (from matplotlib) (2.9.0.post0)\n",
      "Requirement already satisfied: decorator in c:\\users\\chrisb\\.conda\\envs\\pythonproject3\\lib\\site-packages (from ipython>=6.1.0->ipywidgets) (5.1.1)\n",
      "Requirement already satisfied: jedi>=0.16 in c:\\users\\chrisb\\.conda\\envs\\pythonproject3\\lib\\site-packages (from ipython>=6.1.0->ipywidgets) (0.19.2)\n",
      "Requirement already satisfied: matplotlib-inline in c:\\users\\chrisb\\.conda\\envs\\pythonproject3\\lib\\site-packages (from ipython>=6.1.0->ipywidgets) (0.1.6)\n",
      "Requirement already satisfied: prompt-toolkit<3.1.0,>=3.0.41 in c:\\users\\chrisb\\.conda\\envs\\pythonproject3\\lib\\site-packages (from ipython>=6.1.0->ipywidgets) (3.0.43)\n",
      "Requirement already satisfied: pygments>=2.4.0 in c:\\users\\chrisb\\.conda\\envs\\pythonproject3\\lib\\site-packages (from ipython>=6.1.0->ipywidgets) (2.15.1)\n",
      "Requirement already satisfied: stack-data in c:\\users\\chrisb\\.conda\\envs\\pythonproject3\\lib\\site-packages (from ipython>=6.1.0->ipywidgets) (0.2.0)\n",
      "Requirement already satisfied: typing-extensions>=4.6 in c:\\users\\chrisb\\.conda\\envs\\pythonproject3\\lib\\site-packages (from ipython>=6.1.0->ipywidgets) (4.12.2)\n",
      "Requirement already satisfied: colorama in c:\\users\\chrisb\\.conda\\envs\\pythonproject3\\lib\\site-packages (from ipython>=6.1.0->ipywidgets) (0.4.6)\n",
      "Requirement already satisfied: six>=1.5 in c:\\users\\chrisb\\.conda\\envs\\pythonproject3\\lib\\site-packages (from python-dateutil>=2.7->matplotlib) (1.16.0)\n",
      "Requirement already satisfied: parso<0.9.0,>=0.8.4 in c:\\users\\chrisb\\.conda\\envs\\pythonproject3\\lib\\site-packages (from jedi>=0.16->ipython>=6.1.0->ipywidgets) (0.8.4)\n",
      "Requirement already satisfied: wcwidth in c:\\users\\chrisb\\.conda\\envs\\pythonproject3\\lib\\site-packages (from prompt-toolkit<3.1.0,>=3.0.41->ipython>=6.1.0->ipywidgets) (0.2.5)\n",
      "Requirement already satisfied: executing in c:\\users\\chrisb\\.conda\\envs\\pythonproject3\\lib\\site-packages (from stack-data->ipython>=6.1.0->ipywidgets) (0.8.3)\n",
      "Requirement already satisfied: asttokens in c:\\users\\chrisb\\.conda\\envs\\pythonproject3\\lib\\site-packages (from stack-data->ipython>=6.1.0->ipywidgets) (2.0.5)\n",
      "Requirement already satisfied: pure-eval in c:\\users\\chrisb\\.conda\\envs\\pythonproject3\\lib\\site-packages (from stack-data->ipython>=6.1.0->ipywidgets) (0.2.2)\n"
     ]
    }
   ],
   "execution_count": 10
  },
  {
   "metadata": {},
   "cell_type": "markdown",
   "source": [
    "# Introduction:  \n",
    "# WHO: This document is intended to be a toolkit for AI technologists in government roles. \n",
    "# WHAT: This document is a guide to understanding and mitigating bias, prejudice, and injustice in machine learning models and systems for governance. It serves as a tool kit for evaluating models and systems for fairness and equity.\n",
    "# WHY:  \n",
    "\n"
   ],
   "id": "dc55fd6a8523a7d7"
  },
  {
   "metadata": {},
   "cell_type": "markdown",
   "source": [
    "# Definitions:\n",
    "\n",
    "## Equity (Equality of Outcome)\n",
    "Equity is the principle of fairness in the distribution of resources or opportunities. Equity is not the same as equality. While equality means each individual or group of people is given the same resources or opportunities, equity means that each individual or group of people is given the resources or opportunities they need to reach an equal outcome. Equity recognizes that each person has different circumstances and allocates the exact resources and opportunities needed to reach an equal outcome.\n",
    "\n",
    "## Equality (sameness)\n",
    "\n",
    "## Fairness (justness of process)\n",
    "\n",
    "## Justice (rightness of outcome)\n",
    "\n"
   ],
   "id": "3edc2f02b6ac687b"
  },
  {
   "metadata": {},
   "cell_type": "markdown",
   "source": "",
   "id": "7af5b4d369b66dde"
  },
  {
   "metadata": {},
   "cell_type": "markdown",
   "source": "",
   "id": "31341ece437b2132"
  },
  {
   "metadata": {},
   "cell_type": "markdown",
   "source": "",
   "id": "c147836ab524cae1"
  },
  {
   "metadata": {},
   "cell_type": "markdown",
   "source": [
    "### Fundamental Principles of Mathematics and Computer Science\n",
    "\n",
    "##### Math is the language of the universe, and the universe is a system of systems. Math allows us to model the universe and the systems within it. Models allow us to empirically reason, analyze, and predict the behavior of systems.\n",
    "\n",
    "##### Computer Science is fundamentally the work of taking real-world systems and translating them into mathematical models that can be executed by a computer.\n",
    "\n",
    "#### Proof that Social Systems Can Reliably Be Modeled Using Mathematical Systems\n",
    "\n",
    "###### While a novel idea to the layperson, social systems have been modeled using mathematical systems for centuries. The most famous example of this is the work of Thomas Bayes, who developed a model for predicting the probability of an event based on prior knowledge of conditions that might be related to the event. This model is now known as Bayes' Theorem. Bayes' Theorem is the foundation of modern statistics and probability theory and is used in a wide range of applications, from predicting the weather to predicting the outcome of a presidential election.\n",
    "\n",
    "###### Price's Equation for Altruism: Price's equation, when applied to selflessness, essentially states that a trait like altruism (selflessness) will increase in a population over time if individuals exhibiting that trait have a higher reproductive fitness compared to those who are not altruistic. This means the change in the average level of selflessness in a population is directly related to the covariance between an individual's level of selflessness and their reproductive success; mathematically represented as: Δz = Cov(wi, zi), where \"Δz\" is the change in the trait (selflessness), \"wi\" is an individual's fitness, and \"zi\" is the level of selflessness of an individual."
   ],
   "id": "3354474fda99f31a"
  },
  {
   "metadata": {},
   "cell_type": "markdown",
   "source": [
    "# Understanding Bias: A Mathematical and Humanistic Perspective\n",
    "\n",
    "## Definition and Context\n",
    "Bias represents a systematic deviation from an accurate representation of reality, manifesting in both quantitative models and human judgment. This concept bridges mathematical precision and human psychology in interesting ways.\n",
    "\n",
    "## Mathematical Framework\n",
    "In mathematical terms, bias occurs when a model systematically deviates from true values:\n",
    "\n",
    "- **Systematic Error**: A consistent pattern of deviation from the true value\n",
    "- **Model Misspecification**: When the model structure fails to capture the true relationship between variables\n",
    "- **Parameter Estimation**: Systematic over or underestimation of model parameters\n",
    "\n",
    "## Human Perspective\n",
    "Human bias operates similarly to mathematical bias:\n",
    "\n",
    "1. **System of Judgment**: \n",
    "   - Personal experiences and beliefs form our \"model\" of reality\n",
    "   - This model influences how we process and interpret new information\n",
    "\n",
    "2. **Context Dependency**:\n",
    "   - A bias isn't inherently incorrect\n",
    "   - The same bias may be helpful in one context but misleading in another\n",
    "   - The accuracy of a bias depends on how well it matches the current situation\n",
    "\n",
    "3. **Systematic Nature**:\n",
    "   - Like mathematical bias, human bias creates consistent patterns in judgment\n",
    "   - These patterns can be beneficial (heuristics) or detrimental (prejudices)\n",
    "\n",
    "## Key Insight\n",
    "The parallel between mathematical and human bias suggests that the issue isn't the existence of bias itself, but rather the mismatch between:\n",
    "- The context in which the bias developed\n",
    "- The context in which it's being applied\n",
    "\n",
    "This understanding helps frame bias not as an inherent flaw, but as a feature of models (both mathematical and mental) that requires careful attention to context and application."
   ],
   "id": "593c47f922060d30"
  },
  {
   "metadata": {},
   "cell_type": "markdown",
   "source": "# Building Context",
   "id": "2bdf866682d1d7e0"
  },
  {
   "metadata": {},
   "cell_type": "markdown",
   "source": [
    "# A Mathematical Model of Human Outcomes: Context, Agency, and Environmental Factors\n",
    "\n",
    "## Introduction\n",
    "Human outcomes are shaped by a complex interplay of internal and external factors. This model attempts to formalize these relationships through a mathematical framework that considers genetics, personal agency, environmental conditions, and other contextual factors.\n",
    "\n",
    "## The Mathematical Framework\n",
    "We can express the relationship between outcomes and their contributing factors through the following equation:\n",
    "\n",
    "$$ R = \\left( \\prod_{i=1}^{n} E_{i}^{w_{i}} \\right) \\left( G^{v_{1}} \\cdot F^{v_{2}} \\cdot H^{v_{3}} \\right) $$\n",
    "\n",
    "Subject to the following constraints:\n",
    "$$ \\sum_{i=1}^{n} w_{i} = 1 $$\n",
    "$$ v_{1} + v_{2} + v_{3} = 1 $$\n",
    "\n",
    "### Variable Definitions\n",
    "\n",
    "#### Primary Components\n",
    "- R: The resultant outcome\n",
    "- G: Genetic factors\n",
    "- F: Personal agency (individual choice and decision-making)\n",
    "- H: Experiential influences ( External events as viewed by the individual (internal schema of the external world))\n",
    "\n",
    "#### External Factors\n",
    "- Eᵢ: Domain-specific external factors\n",
    "- wᵢ: Weights assigned to each external factor\n",
    "- n: Number of relevant external factors considered\n",
    "\n",
    "#### Internal Weights\n",
    "- v₁: Weight assigned to genetic influence\n",
    "- v₂: Weight assigned to personal agency\n",
    "- v₃: Weight assigned to environmental factors\n",
    "\n",
    "## Model Properties\n",
    "1. The multiplicative nature of the equation reflects how factors interact and influence each other\n",
    "2. The constraint equations ensure that the relative weights of factors sum to unity\n",
    "3. The model allows for domain-specific customization through the selection of relevant external factors\n",
    "4. The exponential weights enable non-linear relationships between factors\n",
    "\n",
    "This framework provides a foundation for analyzing how various factors contribute to human outcomes, while acknowledging the complex interactions between genetics, personal choice, and environmental conditions."
   ],
   "id": "d4387030627d5e0f"
  },
  {
   "metadata": {
    "ExecuteTime": {
     "end_time": "2025-01-13T15:45:58.050001Z",
     "start_time": "2025-01-13T15:45:57.451974Z"
    }
   },
   "cell_type": "code",
   "source": [
    "import numpy as np\n",
    "import matplotlib.pyplot as plt\n",
    "from ipywidgets import interact, FloatSlider\n",
    "\n",
    "# Define the function based on the given equation\n",
    "def outcome_model(w1, w2, w3, v1, v2, v3):\n",
    "    # Example values for external factors E1, E2, E3\n",
    "    E1, E2, E3 = 1.2, 0.8, 1.5\n",
    "    # Example values for internal factors G, F, H\n",
    "    G, F, H = 1.1, 0.9, 1.3\n",
    "    \n",
    "    # Calculate the outcome R\n",
    "    R = (E1**w1 * E2**w2 * E3**w3) * (G**v1 * F**v2 * H**v3)\n",
    "    \n",
    "    # Plot the outcome\n",
    "    plt.figure(figsize=(8, 6))\n",
    "    plt.plot([0, 1], [0, R], marker='o')\n",
    "    plt.title('Outcome Model')\n",
    "    plt.xlabel('Input')\n",
    "    plt.ylabel('Outcome')\n",
    "    plt.ylim(0, 5)\n",
    "    plt.grid(True)\n",
    "    plt.show()\n",
    "\n",
    "# Create interactive sliders for the weights\n",
    "interact(outcome_model,\n",
    "         w1=FloatSlider(min=0, max=1, step=0.01, value=0.33, description='w1'),\n",
    "         w2=FloatSlider(min=0, max=1, step=0.01, value=0.33, description='w2'),\n",
    "         w3=FloatSlider(min=0, max=1, step=0.01, value=0.34, description='w3'),\n",
    "         v1=FloatSlider(min=0, max=1, step=0.01, value=0.33, description='v1'),\n",
    "         v2=FloatSlider(min=0, max=1, step=0.01, value=0.33, description='v2'),\n",
    "         v3=FloatSlider(min=0, max=1, step=0.01, value=0.34, description='v3'));"
   ],
   "id": "82179d42421a93b9",
   "outputs": [
    {
     "data": {
      "text/plain": [
       "interactive(children=(FloatSlider(value=0.33, description='w1', max=1.0, step=0.01), FloatSlider(value=0.33, d…"
      ],
      "application/vnd.jupyter.widget-view+json": {
       "version_major": 2,
       "version_minor": 0,
       "model_id": "239ad4ee1a2b45079838b5488b6667d2"
      }
     },
     "metadata": {},
     "output_type": "display_data"
    }
   ],
   "execution_count": 12
  },
  {
   "metadata": {},
   "cell_type": "markdown",
   "source": [
    "\n",
    "\n"
   ],
   "id": "afcb79bc26e975c9"
  },
  {
   "metadata": {},
   "cell_type": "markdown",
   "source": [
    "# Social to Mathematical Bias Mapping\n",
    "\n",
    "## Selection Bias\n",
    "**Social Context**: Forming opinions based only on people/experiences that are easily visible or accessible\n",
    "\n",
    "**Mathematical Equivalent**: Sample selection bias where data isn't randomly selected from the population\n",
    "\n",
    "**Example**: Judging a city's wealth by only visiting tourist areas\n",
    "\n",
    "**Formula**: \n",
    "$$P(\\text{Selected}|X) \\neq P(\\text{Selected})$$ \n",
    "where X are observable characteristics\n",
    "\n",
    "## Confirmation Bias\n",
    "**Social Context**: Seeking information that confirms existing beliefs while ignoring contradictory evidence\n",
    "\n",
    "**Mathematical Equivalent**: Model overfitting to expected patterns; improper handling of outliers\n",
    "\n",
    "**Example**: Only remembering times stereotypes were true\n",
    "\n",
    "**Formula**: \n",
    "$$\\text{Loss}_{\\text{biased}} = \\sum_{i} w_i(y_i - \\hat{y_i})^2$$\n",
    "where $w_i$ overweights expected outcomes\n",
    "\n",
    "## Survivorship Bias\n",
    "**Social Context**: Drawing conclusions only from \"survivors\" while ignoring those who didn't make it\n",
    "\n",
    "**Mathematical Equivalent**: Missing data bias where failures/dropouts aren't recorded\n",
    "\n",
    "**Example**: Thinking dropping out of college always leads to failure because we only hear about successful dropouts\n",
    "\n",
    "**Formula**: \n",
    "$$E[Y|X, \\text{Observed}=1] \\neq E[Y|X]$$\n",
    "\n",
    "## Availability Bias\n",
    "**Social Context**: Overestimating likelihood of events that are easily recalled\n",
    "\n",
    "**Mathematical Equivalent**: Recency bias in time series; overweighting recent observations\n",
    "\n",
    "**Example**: Overestimating crime rates after seeing news coverage\n",
    "\n",
    "**Formula**: \n",
    "$$\\text{Weight}(\\text{observation}) \\propto \\frac{1}{\\text{time\\_since\\_observation}}$$\n",
    "\n",
    "## Anchoring Bias\n",
    "**Social Context**: Relying too heavily on first piece of information encountered\n",
    "\n",
    "**Mathematical Equivalent**: Strong prior in Bayesian inference that resists updating\n",
    "\n",
    "**Example**: First salary offer anchoring negotiation\n",
    "\n",
    "**Formula**: \n",
    "$$P(\\theta|\\text{data}) \\propto P(\\text{data}|\\theta)P(\\theta)$$\n",
    "where $P(\\theta)$ has strong peaks\n",
    "\n",
    "## Status Quo Bias\n",
    "**Social Context**: Preference for current state of affairs\n",
    "\n",
    "**Mathematical Equivalent**: High regularization penalty on deviation from baseline\n",
    "\n",
    "**Example**: Resisting organizational change\n",
    "\n",
    "**Formula**: \n",
    "$$\\text{Loss} = \\text{Error} + \\lambda\\|\\theta - \\theta_{\\text{current}}\\|$$\n",
    "\n",
    "## In-Group Bias\n",
    "**Social Context**: Favoring members of one's own group\n",
    "\n",
    "**Mathematical Equivalent**: Feature importance bias toward certain variable clusters\n",
    "\n",
    "**Example**: Preferring alumni from one's own school\n",
    "\n",
    "**Formula**: \n",
    "$$P(\\text{Success}|\\text{Group}=\\text{in}) > P(\\text{Success}|\\text{Group}=\\text{out})$$\n",
    "\n",
    "## Temporal Bias\n",
    "**Social Context**: Overemphasizing short-term effects over long-term consequences\n",
    "\n",
    "**Mathematical Equivalent**: Decay factor in time series that underweights older data\n",
    "\n",
    "**Example**: Prioritizing quarterly profits over long-term growth\n",
    "\n",
    "**Formula**: \n",
    "$$\\text{Impact}(t) = \\text{Impact}(0) \\cdot e^{-\\lambda t}$$"
   ],
   "id": "896ca8efc9a9cf47"
  },
  {
   "metadata": {},
   "cell_type": "code",
   "outputs": [],
   "execution_count": null,
   "source": [
    "# todo : #####  evaluating policy for fairness\n",
    "##### evaluating policy for equity\n",
    "##### evaluating policy for justice\n",
    "##### applying system effiency models to prove that no perfect system exists\n",
    "##### applications of maximizing and minimizing functions to direct policy to achieve desired outcomes"
   ],
   "id": "7c23583b14b4d186"
  },
  {
   "metadata": {},
   "cell_type": "code",
   "outputs": [],
   "execution_count": null,
   "source": [
    "# predudice is an inappropriate Weight attributed to a lever relative to a context. \n",
    "# Real World Examnple:\n",
    "# Mathmatical Equivalency:"
   ],
   "id": "3935997ded51311b"
  },
  {
   "metadata": {},
   "cell_type": "markdown",
   "source": [
    "#### The final layer in evaluating a model MUST be a Human governance layer. This is the layer that ensures that the model is being used in a way that is ethical and fair. The role of government is at its essence, a system promotes Justice. However, we must acknowledge that all systems are inherently flawed and that maximizing justice must be balanced with mercy. We must evaluate the outcome of our systems for fairness while recognizing that imperfect systems prejudice some groups and individuals. Mercy recognizes that we must be willing to forgive and show compassion to those who have been disadvantaged by the system, and that we must be continually seeking to adjust the system to make it more equitable. Judgement of actions, and beliefs must be evalauted in the context of the system that they are operating in. Equity is established by means of applying mercy to justice.\n",
    "\n",
    "#\n"
   ],
   "id": "a891ccd32c151be6"
  },
  {
   "metadata": {},
   "cell_type": "code",
   "outputs": [],
   "execution_count": null,
   "source": "# Survival and Actualization",
   "id": "87b0330cc5d48962"
  },
  {
   "metadata": {},
   "cell_type": "code",
   "outputs": [],
   "execution_count": null,
   "source": "",
   "id": "4a26463f7fcd456f"
  }
 ],
 "metadata": {
  "kernelspec": {
   "display_name": "Python 3",
   "language": "python",
   "name": "python3"
  },
  "language_info": {
   "codemirror_mode": {
    "name": "ipython",
    "version": 2
   },
   "file_extension": ".py",
   "mimetype": "text/x-python",
   "name": "python",
   "nbconvert_exporter": "python",
   "pygments_lexer": "ipython2",
   "version": "2.7.6"
  }
 },
 "nbformat": 4,
 "nbformat_minor": 5
}
